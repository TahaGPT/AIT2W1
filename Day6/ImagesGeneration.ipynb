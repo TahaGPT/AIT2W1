{
 "cells": [
  {
   "cell_type": "code",
   "execution_count": 1,
   "id": "f266cec5",
   "metadata": {},
   "outputs": [
    {
     "name": "stdout",
     "output_type": "stream",
     "text": [
      "Collecting diffusers\n",
      "  Downloading diffusers-0.34.0-py3-none-any.whl (3.8 MB)\n",
      "     ---------------------------------------- 3.8/3.8 MB 1.1 MB/s eta 0:00:00\n",
      "Requirement already satisfied: transformers in c:\\users\\lab\\desktop\\kdd\\myenv\\lib\\site-packages (4.52.4)\n",
      "Requirement already satisfied: accelerate in c:\\users\\lab\\desktop\\kdd\\myenv\\lib\\site-packages (1.8.1)\n",
      "Requirement already satisfied: scipy in c:\\users\\lab\\desktop\\kdd\\myenv\\lib\\site-packages (1.15.3)\n",
      "Requirement already satisfied: safetensors in c:\\users\\lab\\desktop\\kdd\\myenv\\lib\\site-packages (0.5.3)\n",
      "Collecting importlib_metadata\n",
      "  Downloading importlib_metadata-8.7.0-py3-none-any.whl (27 kB)\n",
      "Requirement already satisfied: filelock in c:\\users\\lab\\desktop\\kdd\\myenv\\lib\\site-packages (from diffusers) (3.18.0)\n",
      "Requirement already satisfied: huggingface-hub>=0.27.0 in c:\\users\\lab\\desktop\\kdd\\myenv\\lib\\site-packages (from diffusers) (0.33.0)\n",
      "Requirement already satisfied: numpy in c:\\users\\lab\\desktop\\kdd\\myenv\\lib\\site-packages (from diffusers) (2.2.5)\n",
      "Requirement already satisfied: regex!=2019.12.17 in c:\\users\\lab\\desktop\\kdd\\myenv\\lib\\site-packages (from diffusers) (2024.11.6)\n",
      "Requirement already satisfied: requests in c:\\users\\lab\\desktop\\kdd\\myenv\\lib\\site-packages (from diffusers) (2.32.4)\n",
      "Requirement already satisfied: Pillow in c:\\users\\lab\\desktop\\kdd\\myenv\\lib\\site-packages (from diffusers) (11.2.1)\n",
      "Requirement already satisfied: packaging>=20.0 in c:\\users\\lab\\desktop\\kdd\\myenv\\lib\\site-packages (from transformers) (25.0)\n",
      "Requirement already satisfied: pyyaml>=5.1 in c:\\users\\lab\\desktop\\kdd\\myenv\\lib\\site-packages (from transformers) (6.0.2)\n",
      "Requirement already satisfied: tokenizers<0.22,>=0.21 in c:\\users\\lab\\desktop\\kdd\\myenv\\lib\\site-packages (from transformers) (0.21.1)\n",
      "Requirement already satisfied: tqdm>=4.27 in c:\\users\\lab\\desktop\\kdd\\myenv\\lib\\site-packages (from transformers) (4.67.1)\n",
      "Requirement already satisfied: psutil in c:\\users\\lab\\desktop\\kdd\\myenv\\lib\\site-packages (from accelerate) (7.0.0)\n",
      "Requirement already satisfied: torch>=2.0.0 in c:\\users\\lab\\desktop\\kdd\\myenv\\lib\\site-packages (from accelerate) (2.7.1)\n",
      "Requirement already satisfied: fsspec>=2023.5.0 in c:\\users\\lab\\desktop\\kdd\\myenv\\lib\\site-packages (from huggingface-hub>=0.27.0->diffusers) (2025.3.0)\n",
      "Requirement already satisfied: typing-extensions>=3.7.4.3 in c:\\users\\lab\\desktop\\kdd\\myenv\\lib\\site-packages (from huggingface-hub>=0.27.0->diffusers) (4.13.2)\n",
      "Requirement already satisfied: sympy>=1.13.3 in c:\\users\\lab\\desktop\\kdd\\myenv\\lib\\site-packages (from torch>=2.0.0->accelerate) (1.14.0)\n",
      "Requirement already satisfied: networkx in c:\\users\\lab\\desktop\\kdd\\myenv\\lib\\site-packages (from torch>=2.0.0->accelerate) (3.5)\n",
      "Requirement already satisfied: jinja2 in c:\\users\\lab\\desktop\\kdd\\myenv\\lib\\site-packages (from torch>=2.0.0->accelerate) (3.1.6)\n",
      "Requirement already satisfied: colorama in c:\\users\\lab\\desktop\\kdd\\myenv\\lib\\site-packages (from tqdm>=4.27->transformers) (0.4.6)\n",
      "Collecting zipp>=3.20\n",
      "  Downloading zipp-3.23.0-py3-none-any.whl (10 kB)\n",
      "Requirement already satisfied: charset_normalizer<4,>=2 in c:\\users\\lab\\desktop\\kdd\\myenv\\lib\\site-packages (from requests->diffusers) (3.4.2)\n",
      "Requirement already satisfied: idna<4,>=2.5 in c:\\users\\lab\\desktop\\kdd\\myenv\\lib\\site-packages (from requests->diffusers) (2.10)\n",
      "Requirement already satisfied: urllib3<3,>=1.21.1 in c:\\users\\lab\\desktop\\kdd\\myenv\\lib\\site-packages (from requests->diffusers) (2.5.0)\n",
      "Requirement already satisfied: certifi>=2017.4.17 in c:\\users\\lab\\desktop\\kdd\\myenv\\lib\\site-packages (from requests->diffusers) (2025.6.15)\n",
      "Requirement already satisfied: mpmath<1.4,>=1.1.0 in c:\\users\\lab\\desktop\\kdd\\myenv\\lib\\site-packages (from sympy>=1.13.3->torch>=2.0.0->accelerate) (1.3.0)\n",
      "Requirement already satisfied: MarkupSafe>=2.0 in c:\\users\\lab\\desktop\\kdd\\myenv\\lib\\site-packages (from jinja2->torch>=2.0.0->accelerate) (3.0.2)\n",
      "Installing collected packages: zipp, importlib_metadata, diffusers\n",
      "Successfully installed diffusers-0.34.0 importlib_metadata-8.7.0 zipp-3.23.0\n",
      "Note: you may need to restart the kernel to use updated packages.\n"
     ]
    },
    {
     "name": "stderr",
     "output_type": "stream",
     "text": [
      "\n",
      "[notice] A new release of pip available: 22.3 -> 25.1.1\n",
      "[notice] To update, run: python.exe -m pip install --upgrade pip\n"
     ]
    }
   ],
   "source": [
    "%pip install diffusers transformers accelerate scipy safetensors\n"
   ]
  },
  {
   "cell_type": "code",
   "execution_count": 3,
   "id": "4a4dc897",
   "metadata": {},
   "outputs": [
    {
     "name": "stderr",
     "output_type": "stream",
     "text": [
      "Loading pipeline components...: 100%|██████████| 7/7 [00:00<00:00, 15.66it/s]\n"
     ]
    }
   ],
   "source": [
    "from diffusers import StableDiffusionPipeline\n",
    "import torch\n",
    "\n",
    "pipe = StableDiffusionPipeline.from_pretrained(\n",
    "    \"runwayml/stable-diffusion-v1-5\"\n",
    ").to(\"cpu\")  # use CPU instead of CUDA\n"
   ]
  },
  {
   "cell_type": "code",
   "execution_count": 7,
   "id": "0deaf16c",
   "metadata": {},
   "outputs": [
    {
     "name": "stderr",
     "output_type": "stream",
     "text": [
      "100%|██████████| 50/50 [02:33<00:00,  3.06s/it]\n",
      "100%|██████████| 50/50 [02:33<00:00,  3.07s/it]\n",
      "100%|██████████| 50/50 [02:33<00:00,  3.07s/it]\n",
      "100%|██████████| 50/50 [02:33<00:00,  3.06s/it]\n",
      "100%|██████████| 50/50 [02:33<00:00,  3.06s/it]\n",
      "100%|██████████| 50/50 [02:33<00:00,  3.07s/it]\n",
      "100%|██████████| 50/50 [02:31<00:00,  3.03s/it]\n",
      "100%|██████████| 50/50 [03:43<00:00,  4.47s/it]\n",
      "100%|██████████| 50/50 [02:39<00:00,  3.19s/it]\n",
      "100%|██████████| 50/50 [02:39<00:00,  3.20s/it]\n",
      "100%|██████████| 50/50 [02:39<00:00,  3.19s/it]\n",
      "100%|██████████| 50/50 [02:33<00:00,  3.07s/it]\n",
      "100%|██████████| 50/50 [02:34<00:00,  3.10s/it]\n",
      "100%|██████████| 50/50 [02:34<00:00,  3.09s/it]\n",
      "100%|██████████| 50/50 [02:39<00:00,  3.20s/it]\n"
     ]
    }
   ],
   "source": [
    "from deep_translator import GoogleTranslator\n",
    "\n",
    "textPrompts = {\n",
    "    'prompt_en' : \"a beautiful mountain landscape with a river.\",\n",
    "    'prompt_ur' : \"ایک خوبصورت پہاڑی منظر جس میں ایک دریا بہہ رہا ہے.\",\n",
    "    'prompt_ar' : \"منظر جبلي جميل مع نهر.\",\n",
    "    'prompt_fr' : \"un beau paysage de montagne avec une rivière.\",\n",
    "    'prompt_es' : \"un hermoso paisaje montañoso con un río.\",\n",
    "    'prompt_de' : \"eine schöne Berglandschaft mit einem Fluss.\",\n",
    "    'prompt_it' : \"un bellissimo paesaggio montano con un fiume.\",\n",
    "    'prompt_ru' : \"красивый горный пейзаж с рекой.\",\n",
    "    'prompt_zh' : \"一幅美丽的山景，有一条河流.\",\n",
    "    'prompt_ja' : \"川のある美しい山の風景.\",\n",
    "    'prompt_ko' : \"강이 있는 아름다운 산 풍경.\",\n",
    "    'prompt_hi' : \"एक सुंदर पहाड़ी परिदृश्य जिसमें एक नदी बह रही है.\",\n",
    "    'prompt_tr' : \"nehirli güzel bir dağ manzarası.\",\n",
    "    'prompt_pt' : \"uma bela paisagem montanhosa com um rio.\",\n",
    "    'prompt_bn' : \"একটি সুন্দর পাহাড়ি দৃশ্য যেখানে একটি নদী প্রবাহিত হচ্ছে.\"\n",
    "}\n",
    "\n",
    "for prompt in textPrompts:\n",
    "    translated = GoogleTranslator(source='auto', target='en').translate(textPrompts[prompt])\n",
    "    image = pipe(translated).images[0]\n",
    "    image.save(f\"image{prompt}.png\")\n"
   ]
  }
 ],
 "metadata": {
  "kernelspec": {
   "display_name": "myenv",
   "language": "python",
   "name": "python3"
  },
  "language_info": {
   "codemirror_mode": {
    "name": "ipython",
    "version": 3
   },
   "file_extension": ".py",
   "mimetype": "text/x-python",
   "name": "python",
   "nbconvert_exporter": "python",
   "pygments_lexer": "ipython3",
   "version": "3.11.0"
  }
 },
 "nbformat": 4,
 "nbformat_minor": 5
}
